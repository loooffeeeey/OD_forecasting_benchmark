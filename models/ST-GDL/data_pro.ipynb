{
 "cells": [
  {
   "cell_type": "code",
   "execution_count": 1,
   "metadata": {},
   "outputs": [],
   "source": [
    "from tqdm import tqdm"
   ]
  },
  {
   "cell_type": "code",
   "execution_count": 2,
   "metadata": {},
   "outputs": [
    {
     "name": "stderr",
     "output_type": "stream",
     "text": [
      "/usr/local/anaconda3/envs/torch-1.10-py38/lib/python3.8/site-packages/tqdm/auto.py:21: TqdmWarning: IProgress not found. Please update jupyter and ipywidgets. See https://ipywidgets.readthedocs.io/en/stable/user_install.html\n",
      "  from .autonotebook import tqdm as notebook_tqdm\n"
     ]
    }
   ],
   "source": [
    "data_path = 'data_ori/'\n",
    "data_path_pro = 'data_pro/'\n",
    "import os\n",
    "if not os.path.exists(data_path_pro):\n",
    "    os.makedirs(data_path_pro)\n",
    "import numpy as np\n",
    "import dgl\n",
    "\n",
    "# Path: data_pro.ipynb\n",
    "def load_data(data_path, data_path_pro):\n",
    "    od_matrix = np.load(data_path + 'od_matrix_700.npy')\n",
    "    od_matrix = od_matrix.astype(np.float32)\n",
    "    # 读取eoGraph.dgl\n",
    "    geoGraph = dgl.load_graphs(data_path + 'geoGraph.dgl')[0][0]\n",
    "    return od_matrix, geoGraph\n",
    "\n",
    "# Path: data_pro.ipynb\n",
    "def get_adj(geoGraph):\n",
    "    adj = geoGraph.adjacency_matrix()\n",
    "    adj = adj.to_dense()\n",
    "    adj = adj.numpy()\n",
    "    return adj\n",
    "\n",
    "od_matrix, geoGraph = load_data(data_path, data_path_pro)\n",
    "adj = get_adj(geoGraph)\n"
   ]
  },
  {
   "cell_type": "code",
   "execution_count": 3,
   "metadata": {},
   "outputs": [],
   "source": [
    "trend_len = 7*24\n",
    "period_len = 24\n",
    "closeness_len = 3\n",
    "prediction_len = 12\n",
    "slot_num = 12"
   ]
  },
  {
   "cell_type": "code",
   "execution_count": 10,
   "metadata": {},
   "outputs": [
    {
     "name": "stderr",
     "output_type": "stream",
     "text": [
      " 49%|████▊     | 341/700 [00:04<00:05, 59.95it/s]  "
     ]
    },
    {
     "ename": "",
     "evalue": "",
     "output_type": "error",
     "traceback": [
      "\u001b[1;31mCanceled future for execute_request message before replies were done"
     ]
    },
    {
     "ename": "",
     "evalue": "",
     "output_type": "error",
     "traceback": [
      "\u001b[1;31m在当前单元格或上一个单元格中执行代码时 Kernel 崩溃。请查看单元格中的代码，以确定故障的可能原因。有关详细信息，请单击 <a href='https://aka.ms/vscodeJupyterKernelCrash'>此处</a>。有关更多详细信息，请查看 Jupyter <a href='command:jupyter.viewOutput'>log</a>。"
     ]
    }
   ],
   "source": [
    "# 将OD矩阵处理成三通道输入\n",
    "# Path: data_pro.ipynb\n",
    "def process_od(od_matrix):\n",
    "    data_closeness = []\n",
    "    data_trend = []\n",
    "    data_period = []\n",
    "    num_hour = od_matrix.shape[0]\n",
    "    batch_size = num_hour - trend_len - prediction_len + 1\n",
    "    data_closeness = np.zeros((batch_size, closeness_len, od_matrix.shape[1], od_matrix.shape[2]))\n",
    "    data_trend = np.zeros((batch_size, slot_num, od_matrix.shape[1], od_matrix.shape[2]))\n",
    "    data_period = np.zeros((batch_size, slot_num, od_matrix.shape[1], od_matrix.shape[2]))\n",
    "    data_prediction = np.zeros((batch_size, prediction_len, od_matrix.shape[1], od_matrix.shape[2]))\n",
    "    for curh in tqdm(range(num_hour)):\n",
    "        if (curh - trend_len<0) or (curh + prediction_len>num_hour):\n",
    "            continue\n",
    "        data_closeness[curh-trend_len] = od_matrix[curh-closeness_len:curh]\n",
    "        data_trend[curh-trend_len] = od_matrix[curh-trend_len:curh-trend_len+slot_num]\n",
    "        data_period[curh-trend_len] = od_matrix[curh-period_len:curh-period_len+slot_num]\n",
    "        data_prediction[curh-trend_len] = od_matrix[curh:curh+prediction_len]\n",
    "    return data_closeness, data_trend, data_period,data_prediction\n",
    "data_closeness, data_trend, data_period,data_prediction = process_od(od_matrix)\n"
   ]
  },
  {
   "cell_type": "code",
   "execution_count": 6,
   "metadata": {},
   "outputs": [
    {
     "data": {
      "text/plain": [
       "(521, 3, 361, 361)"
      ]
     },
     "execution_count": 6,
     "metadata": {},
     "output_type": "execute_result"
    }
   ],
   "source": [
    "# 保存为 data_closeness, data_trend, data_period,data_prediction 为npz\n",
    "np.savez(data_path_pro + 'data.npz', closeness = data_closeness, trend = data_trend, period = data_period, prediction = data_prediction)"
   ]
  },
  {
   "cell_type": "code",
   "execution_count": 9,
   "metadata": {},
   "outputs": [
    {
     "data": {
      "text/plain": [
       "False"
      ]
     },
     "execution_count": 9,
     "metadata": {},
     "output_type": "execute_result"
    }
   ],
   "source": []
  },
  {
   "cell_type": "code",
   "execution_count": null,
   "metadata": {},
   "outputs": [],
   "source": []
  }
 ],
 "metadata": {
  "kernelspec": {
   "display_name": "torch-1.10-py38",
   "language": "python",
   "name": "python3"
  },
  "language_info": {
   "codemirror_mode": {
    "name": "ipython",
    "version": 3
   },
   "file_extension": ".py",
   "mimetype": "text/x-python",
   "name": "python",
   "nbconvert_exporter": "python",
   "pygments_lexer": "ipython3",
   "version": "3.8.12"
  },
  "orig_nbformat": 4
 },
 "nbformat": 4,
 "nbformat_minor": 2
}
